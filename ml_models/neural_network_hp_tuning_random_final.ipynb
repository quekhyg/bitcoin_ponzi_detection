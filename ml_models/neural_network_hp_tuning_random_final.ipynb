{
 "cells": [
  {
   "cell_type": "code",
   "execution_count": 1,
   "id": "f201e49b",
   "metadata": {},
   "outputs": [],
   "source": [
    "#Standard Imports\n",
    "import numpy as np\n",
    "import pandas as pd\n",
    "import matplotlib.pyplot as plt\n",
    "import sys\n",
    "import os\n",
    "import copy\n",
    "\n",
    "import tensorflow as tf\n",
    "from tensorflow.keras import layers\n",
    "from tensorflow.keras import metrics\n",
    "from tensorflow.keras.metrics import Metric\n",
    "import keras_tuner as kt\n",
    "\n",
    "from sklearn.preprocessing import PowerTransformer\n",
    "from sklearn.preprocessing import StandardScaler\n",
    "from sklearn.preprocessing import MinMaxScaler\n",
    "from sklearn.model_selection import KFold\n",
    "from sklearn.model_selection import StratifiedKFold"
   ]
  },
  {
   "cell_type": "code",
   "execution_count": 2,
   "id": "3ca55343",
   "metadata": {},
   "outputs": [],
   "source": [
    "#Custom Imports\n",
    "sys.path.append('../src')\n",
    "import ml_functions as ml\n",
    "import neural_network as nn"
   ]
  },
  {
   "cell_type": "code",
   "execution_count": 3,
   "id": "1e88f2d1",
   "metadata": {},
   "outputs": [],
   "source": [
    "#Loading Data\n",
    "df = pd.read_csv('../data/training_set_(50_50).csv', index_col = 0)\n",
    "df_test = pd.read_csv('../data/testing_set_(90_10).csv', index_col = 0)"
   ]
  },
  {
   "cell_type": "code",
   "execution_count": 4,
   "id": "25103001",
   "metadata": {},
   "outputs": [],
   "source": [
    "#Dropping unnecessary columns\n",
    "to_drop = ['account_creation_time','account_active_duration','time_between_first_and_last_transaction',\n",
    "           'gini_coefficient_accounts_received','gini_coefficient_accounts_sent',\n",
    "           'gini_coefficient_values_received','gini_coefficient_values_sent']\n",
    "df.drop(to_drop, axis = 1, inplace = True)\n",
    "df_test.drop(to_drop, axis = 1, inplace = True)"
   ]
  },
  {
   "cell_type": "code",
   "execution_count": 5,
   "id": "08286f4a",
   "metadata": {},
   "outputs": [],
   "source": [
    "#Shuffling Data\n",
    "df = df.sample(frac = 1, random_state = 2022)\n",
    "validation_frac = 0.2\n",
    "validation_index = int(len(df)*(1-validation_frac))+1\n",
    "x_train = df.iloc[:validation_index, :-1]\n",
    "y_train = df.iloc[:validation_index, -1].astype(int)\n",
    "x_val = df.iloc[validation_index:, :-1]\n",
    "y_val = df.iloc[validation_index:, -1].astype(int)"
   ]
  },
  {
   "cell_type": "code",
   "execution_count": 6,
   "id": "034cae61",
   "metadata": {},
   "outputs": [],
   "source": [
    "#Scaling Train Data\n",
    "scaler = PowerTransformer()\n",
    "#scaler = StandardScaler()\n",
    "\n",
    "x_train = scaler.fit_transform(x_train)\n",
    "x_train = tf.convert_to_tensor(x_train, dtype = tf.float64)\n",
    "y_train = tf.convert_to_tensor(y_train, dtype = tf.float64)"
   ]
  },
  {
   "cell_type": "code",
   "execution_count": 7,
   "id": "e1f12484",
   "metadata": {},
   "outputs": [],
   "source": [
    "#Scaling Validation Data\n",
    "x_val = tf.convert_to_tensor(scaler.transform(x_val), dtype = tf.float64)\n",
    "y_val = tf.convert_to_tensor(y_val, dtype = tf.float64)"
   ]
  },
  {
   "cell_type": "code",
   "execution_count": 8,
   "id": "2d3d7621",
   "metadata": {},
   "outputs": [],
   "source": [
    "#Scaling Test Data\n",
    "x_test = df_test.loc[:,df_test.columns != 'ponzi']\n",
    "x_test = tf.convert_to_tensor(scaler.transform(x_test), dtype = tf.float64)\n",
    "y_test = tf.convert_to_tensor(df_test.ponzi.astype(int), dtype = tf.float64)"
   ]
  },
  {
   "cell_type": "code",
   "execution_count": 9,
   "id": "851e96f6",
   "metadata": {},
   "outputs": [],
   "source": [
    "def build_model(hp):\n",
    "    #Defining hyperparameter options\n",
    "    hp_n_dense = hp.Int('n_dense', 4, 32, 4)\n",
    "    total_n_nodes = 1024\n",
    "    hp_dropout_param = hp.Float('dropout_param', min_value = 0.1, max_value = 0.5, step = 0.05)\n",
    "    \n",
    "    n_nodes_per_layer = total_n_nodes // hp_n_dense\n",
    "    \n",
    "    layer_types = ['dense','dropout'] * hp_n_dense\n",
    "    \n",
    "    n_nodes = [n_nodes_per_layer if x == 'dense' else None for x in layer_types]\n",
    "    activations = [tf.nn.leaky_relu if x == 'dense' else None for x in layer_types]\n",
    "    \n",
    "    #Creating NN\n",
    "    model = tf.keras.Sequential()\n",
    "    for lay, n_node, act in zip(layer_types, n_nodes, activations):\n",
    "        if lay == 'dense':\n",
    "            model.add(layers.Dense(n_node, activation = act, dtype = 'float64'))\n",
    "        elif lay == 'dropout':\n",
    "            model.add(layers.Dropout(hp_dropout_param, dtype = 'float64'))\n",
    "\n",
    "    #Output layer\n",
    "    model.add(layers.Dense(1, activation = tf.math.sigmoid, dtype='float64'))\n",
    "\n",
    "    #Compiling\n",
    "    model.compile(optimizer = tf.keras.optimizers.Adam(learning_rate = 1E-4), loss = 'BinaryCrossentropy',\n",
    "                  metrics = [metrics.BinaryAccuracy(), metrics.Precision(), metrics.Recall()])\n",
    "    \n",
    "    return model"
   ]
  },
  {
   "cell_type": "code",
   "execution_count": 10,
   "id": "f652b374",
   "metadata": {},
   "outputs": [],
   "source": [
    "#Defining callback options\n",
    "callback_es = tf.keras.callbacks.EarlyStopping(monitor = 'val_loss', patience = 50, verbose = 1)\n",
    "callback_rlr = tf.keras.callbacks.ReduceLROnPlateau(monitor = 'val_loss', factor = 0.2, patience = 5,\n",
    "                                                    min_delta = 1E-4, cooldown = 5, min_lr = 1E-6, verbose = 1)\n",
    "callback_mcp = tf.keras.callbacks.ModelCheckpoint(\n",
    "    filepath = os.path.join(r'C:\\Users\\quekh\\Desktop\\temp', 'rs3', 'ckpt', 'weights.{epoch:02d}-{val_loss:.2f}'),\n",
    "    save_freq = 'epoch', save_weights_only = True, verbose = 1,\n",
    "    monitor = 'val_loss', mode = 'min', save_best_only = True)\n",
    "\n",
    "callback_list = [callback_es, callback_rlr, callback_mcp]"
   ]
  },
  {
   "cell_type": "code",
   "execution_count": 11,
   "id": "dff803cd",
   "metadata": {},
   "outputs": [],
   "source": [
    "#Defining hyperparameter search method\n",
    "tuner_rs = kt.RandomSearch(build_model, objective = kt.Objective('val_loss', 'min'), max_trials = 50,\n",
    "                           directory = r'C:\\Users\\quekh\\Desktop\\temp', project_name = 'rs3')"
   ]
  },
  {
   "cell_type": "code",
   "execution_count": 12,
   "id": "3d210028",
   "metadata": {},
   "outputs": [
    {
     "name": "stdout",
     "output_type": "stream",
     "text": [
      "Trial 50 Complete [00h 03m 31s]\n",
      "val_loss: 0.6956899166107178\n",
      "\n",
      "Best val_loss So Far: 0.23328042030334473\n",
      "Total elapsed time: 13h 17m 57s\n",
      "INFO:tensorflow:Oracle triggered exit\n"
     ]
    }
   ],
   "source": [
    "#Random Search\n",
    "tuner_rs.search(x_train, y_train, epochs = 1000,\n",
    "                validation_data = (x_val, y_val), callbacks = callback_list)"
   ]
  },
  {
   "cell_type": "code",
   "execution_count": 13,
   "id": "3fa8584c",
   "metadata": {},
   "outputs": [],
   "source": [
    "best_models_rs = tuner_rs.get_best_models(num_models = 5)\n",
    "best_hp_rs = tuner_rs.get_best_hyperparameters(num_trials = 5)"
   ]
  },
  {
   "cell_type": "code",
   "execution_count": 14,
   "id": "c30f7744",
   "metadata": {},
   "outputs": [
    {
     "name": "stdout",
     "output_type": "stream",
     "text": [
      "Random Search:\n",
      "8 0.1\n",
      "Random Search:\n",
      "4 0.20000000000000004\n",
      "Random Search:\n",
      "4 0.1\n",
      "Random Search:\n",
      "4 0.3500000000000001\n",
      "Random Search:\n",
      "4 0.30000000000000004\n"
     ]
    }
   ],
   "source": [
    "for i in range(5):\n",
    "    print('Random Search:')\n",
    "    print(best_hp_rs[i].get('n_dense'), best_hp_rs[i].get('dropout_param'))"
   ]
  }
 ],
 "metadata": {
  "kernelspec": {
   "display_name": "Python 3",
   "language": "python",
   "name": "python3"
  },
  "language_info": {
   "codemirror_mode": {
    "name": "ipython",
    "version": 3
   },
   "file_extension": ".py",
   "mimetype": "text/x-python",
   "name": "python",
   "nbconvert_exporter": "python",
   "pygments_lexer": "ipython3",
   "version": "3.8.8"
  }
 },
 "nbformat": 4,
 "nbformat_minor": 5
}
